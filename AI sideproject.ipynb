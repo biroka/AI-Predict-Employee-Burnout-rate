{
  "cells": [
    {
      "cell_type": "markdown",
      "id": "3wSi-KSCIpEM",
      "metadata": {
        "id": "3wSi-KSCIpEM"
      },
      "source": [
        "### Import Package"
      ]
    },
    {
      "cell_type": "code",
      "execution_count": 2,
      "id": "5Cz5-77fIpEN",
      "metadata": {
        "colab": {
          "base_uri": "https://localhost:8080/",
          "height": 36
        },
        "id": "5Cz5-77fIpEN",
        "outputId": "3ebd36d7-7ac8-418a-b0ad-cc206e1b61ee"
      },
      "outputs": [],
      "source": [
        "import numpy as np\n",
        "import pandas as pd\n",
        "import os\n",
        "from sklearn.model_selection import train_test_split\n",
        "# Category Encoder (categorical variable)\n",
        "from sklearn.preprocessing import LabelEncoder\n",
        "# Min max normalization (numerical variable)\n",
        "from sklearn.preprocessing import MinMaxScaler\n",
        "# Model (can also view the scikit learn to choose the model)\n",
        "from sklearn.linear_model import LinearRegression\n",
        "os.getcwd()\n",
        "from sklearn.linear_model import LinearRegression\n",
        "from sklearn.preprocessing import PolynomialFeatures\n",
        "\n",
        "import matplotlib.pyplot as plt\n",
        "from sklearn.preprocessing import StandardScaler\n",
        "from datetime import date"
      ]
    },
    {
      "cell_type": "markdown",
      "id": "16QNBD14IpEO",
      "metadata": {
        "id": "16QNBD14IpEO"
      },
      "source": [
        "### Read data"
      ]
    },
    {
      "cell_type": "code",
      "execution_count": 5,
      "id": "jVqvLLiVIpEO",
      "metadata": {
        "colab": {
          "base_uri": "https://localhost:8080/",
          "height": 224
        },
        "id": "jVqvLLiVIpEO",
        "outputId": "4b593aa1-5d3a-4d0f-b92b-bec36c0e6d16"
      },
      "outputs": [
        {
          "name": "stdout",
          "output_type": "stream",
          "text": [
            "viwe the data shape (10108, 9)\n"
          ]
        },
        {
          "data": {
            "text/html": [
              "<div>\n",
              "<style scoped>\n",
              "    .dataframe tbody tr th:only-of-type {\n",
              "        vertical-align: middle;\n",
              "    }\n",
              "\n",
              "    .dataframe tbody tr th {\n",
              "        vertical-align: top;\n",
              "    }\n",
              "\n",
              "    .dataframe thead th {\n",
              "        text-align: right;\n",
              "    }\n",
              "</style>\n",
              "<table border=\"1\" class=\"dataframe\">\n",
              "  <thead>\n",
              "    <tr style=\"text-align: right;\">\n",
              "      <th></th>\n",
              "      <th>Employee ID</th>\n",
              "      <th>Date of Joining</th>\n",
              "      <th>Gender</th>\n",
              "      <th>Company Type</th>\n",
              "      <th>WFH Setup Available</th>\n",
              "      <th>Designation</th>\n",
              "      <th>Resource Allocation</th>\n",
              "      <th>Mental Fatigue Score</th>\n",
              "      <th>Burn Rate</th>\n",
              "    </tr>\n",
              "  </thead>\n",
              "  <tbody>\n",
              "    <tr>\n",
              "      <th>0</th>\n",
              "      <td>0</td>\n",
              "      <td>2008/9/30</td>\n",
              "      <td>Female</td>\n",
              "      <td>Service</td>\n",
              "      <td>No</td>\n",
              "      <td>2</td>\n",
              "      <td>3.0</td>\n",
              "      <td>3.8</td>\n",
              "      <td>0.16</td>\n",
              "    </tr>\n",
              "    <tr>\n",
              "      <th>1</th>\n",
              "      <td>1</td>\n",
              "      <td>2008/11/30</td>\n",
              "      <td>Male</td>\n",
              "      <td>Service</td>\n",
              "      <td>Yes</td>\n",
              "      <td>1</td>\n",
              "      <td>2.0</td>\n",
              "      <td>5.0</td>\n",
              "      <td>0.36</td>\n",
              "    </tr>\n",
              "    <tr>\n",
              "      <th>2</th>\n",
              "      <td>2</td>\n",
              "      <td>2008/3/10</td>\n",
              "      <td>Female</td>\n",
              "      <td>Product</td>\n",
              "      <td>Yes</td>\n",
              "      <td>2</td>\n",
              "      <td>NaN</td>\n",
              "      <td>5.8</td>\n",
              "      <td>0.49</td>\n",
              "    </tr>\n",
              "    <tr>\n",
              "      <th>3</th>\n",
              "      <td>3</td>\n",
              "      <td>2008/11/3</td>\n",
              "      <td>Male</td>\n",
              "      <td>Service</td>\n",
              "      <td>Yes</td>\n",
              "      <td>1</td>\n",
              "      <td>1.0</td>\n",
              "      <td>2.6</td>\n",
              "      <td>0.20</td>\n",
              "    </tr>\n",
              "    <tr>\n",
              "      <th>4</th>\n",
              "      <td>4</td>\n",
              "      <td>2008/7/24</td>\n",
              "      <td>Female</td>\n",
              "      <td>Service</td>\n",
              "      <td>No</td>\n",
              "      <td>3</td>\n",
              "      <td>7.0</td>\n",
              "      <td>6.9</td>\n",
              "      <td>0.52</td>\n",
              "    </tr>\n",
              "  </tbody>\n",
              "</table>\n",
              "</div>"
            ],
            "text/plain": [
              "   Employee ID Date of Joining  Gender Company Type WFH Setup Available  \\\n",
              "0            0       2008/9/30  Female      Service                  No   \n",
              "1            1      2008/11/30    Male      Service                 Yes   \n",
              "2            2       2008/3/10  Female      Product                 Yes   \n",
              "3            3       2008/11/3    Male      Service                 Yes   \n",
              "4            4       2008/7/24  Female      Service                  No   \n",
              "\n",
              "   Designation  Resource Allocation  Mental Fatigue Score  Burn Rate  \n",
              "0            2                  3.0                   3.8       0.16  \n",
              "1            1                  2.0                   5.0       0.36  \n",
              "2            2                  NaN                   5.8       0.49  \n",
              "3            1                  1.0                   2.6       0.20  \n",
              "4            3                  7.0                   6.9       0.52  "
            ]
          },
          "execution_count": 5,
          "metadata": {},
          "output_type": "execute_result"
        }
      ],
      "source": [
        "df = pd.read_csv(r'./train.csv')\n",
        "df_test = pd.read_csv(r'./test.csv')\n",
        "print('viwe the data shape', df.shape)\n",
        "df.head()"
      ]
    },
    {
      "cell_type": "code",
      "execution_count": 4,
      "id": "1fbaec1e",
      "metadata": {},
      "outputs": [
        {
          "data": {
            "text/html": [
              "<div>\n",
              "<style scoped>\n",
              "    .dataframe tbody tr th:only-of-type {\n",
              "        vertical-align: middle;\n",
              "    }\n",
              "\n",
              "    .dataframe tbody tr th {\n",
              "        vertical-align: top;\n",
              "    }\n",
              "\n",
              "    .dataframe thead th {\n",
              "        text-align: right;\n",
              "    }\n",
              "</style>\n",
              "<table border=\"1\" class=\"dataframe\">\n",
              "  <thead>\n",
              "    <tr style=\"text-align: right;\">\n",
              "      <th></th>\n",
              "      <th>Employee ID</th>\n",
              "      <th>Date of Joining</th>\n",
              "      <th>Gender</th>\n",
              "      <th>Company Type</th>\n",
              "      <th>WFH Setup Available</th>\n",
              "      <th>Designation</th>\n",
              "      <th>Resource Allocation</th>\n",
              "      <th>Mental Fatigue Score</th>\n",
              "      <th>Burn Rate</th>\n",
              "    </tr>\n",
              "  </thead>\n",
              "  <tbody>\n",
              "    <tr>\n",
              "      <th>0</th>\n",
              "      <td>0</td>\n",
              "      <td>2008/9/30</td>\n",
              "      <td>Female</td>\n",
              "      <td>Service</td>\n",
              "      <td>No</td>\n",
              "      <td>2</td>\n",
              "      <td>3.0</td>\n",
              "      <td>3.8</td>\n",
              "      <td>0.16</td>\n",
              "    </tr>\n",
              "    <tr>\n",
              "      <th>1</th>\n",
              "      <td>1</td>\n",
              "      <td>2008/11/30</td>\n",
              "      <td>Male</td>\n",
              "      <td>Service</td>\n",
              "      <td>Yes</td>\n",
              "      <td>1</td>\n",
              "      <td>2.0</td>\n",
              "      <td>5.0</td>\n",
              "      <td>0.36</td>\n",
              "    </tr>\n",
              "    <tr>\n",
              "      <th>2</th>\n",
              "      <td>2</td>\n",
              "      <td>2008/3/10</td>\n",
              "      <td>Female</td>\n",
              "      <td>Product</td>\n",
              "      <td>Yes</td>\n",
              "      <td>2</td>\n",
              "      <td>NaN</td>\n",
              "      <td>5.8</td>\n",
              "      <td>0.49</td>\n",
              "    </tr>\n",
              "    <tr>\n",
              "      <th>3</th>\n",
              "      <td>3</td>\n",
              "      <td>2008/11/3</td>\n",
              "      <td>Male</td>\n",
              "      <td>Service</td>\n",
              "      <td>Yes</td>\n",
              "      <td>1</td>\n",
              "      <td>1.0</td>\n",
              "      <td>2.6</td>\n",
              "      <td>0.20</td>\n",
              "    </tr>\n",
              "    <tr>\n",
              "      <th>4</th>\n",
              "      <td>4</td>\n",
              "      <td>2008/7/24</td>\n",
              "      <td>Female</td>\n",
              "      <td>Service</td>\n",
              "      <td>No</td>\n",
              "      <td>3</td>\n",
              "      <td>7.0</td>\n",
              "      <td>6.9</td>\n",
              "      <td>0.52</td>\n",
              "    </tr>\n",
              "  </tbody>\n",
              "</table>\n",
              "</div>"
            ],
            "text/plain": [
              "   Employee ID Date of Joining  Gender Company Type WFH Setup Available  \\\n",
              "0            0       2008/9/30  Female      Service                  No   \n",
              "1            1      2008/11/30    Male      Service                 Yes   \n",
              "2            2       2008/3/10  Female      Product                 Yes   \n",
              "3            3       2008/11/3    Male      Service                 Yes   \n",
              "4            4       2008/7/24  Female      Service                  No   \n",
              "\n",
              "   Designation  Resource Allocation  Mental Fatigue Score  Burn Rate  \n",
              "0            2                  3.0                   3.8       0.16  \n",
              "1            1                  2.0                   5.0       0.36  \n",
              "2            2                  NaN                   5.8       0.49  \n",
              "3            1                  1.0                   2.6       0.20  \n",
              "4            3                  7.0                   6.9       0.52  "
            ]
          },
          "execution_count": 4,
          "metadata": {},
          "output_type": "execute_result"
        }
      ],
      "source": [
        "df_test = pd.read_csv(r'./test.csv')\n",
        "df.head()"
      ]
    },
    {
      "cell_type": "markdown",
      "id": "vaA_AJqSPfo0",
      "metadata": {
        "id": "vaA_AJqSPfo0"
      },
      "source": [
        "### Data Preprocessing"
      ]
    },
    {
      "cell_type": "code",
      "execution_count": 8,
      "id": "34751e3c",
      "metadata": {},
      "outputs": [
        {
          "data": {
            "text/html": [
              "<div>\n",
              "<style scoped>\n",
              "    .dataframe tbody tr th:only-of-type {\n",
              "        vertical-align: middle;\n",
              "    }\n",
              "\n",
              "    .dataframe tbody tr th {\n",
              "        vertical-align: top;\n",
              "    }\n",
              "\n",
              "    .dataframe thead th {\n",
              "        text-align: right;\n",
              "    }\n",
              "</style>\n",
              "<table border=\"1\" class=\"dataframe\">\n",
              "  <thead>\n",
              "    <tr style=\"text-align: right;\">\n",
              "      <th></th>\n",
              "      <th>emp_id</th>\n",
              "      <th>doj</th>\n",
              "      <th>gender</th>\n",
              "      <th>company_type</th>\n",
              "      <th>wfh</th>\n",
              "      <th>designation</th>\n",
              "      <th>resource_alloc</th>\n",
              "      <th>mental_fatigue_score</th>\n",
              "      <th>burn_rate</th>\n",
              "    </tr>\n",
              "  </thead>\n",
              "  <tbody>\n",
              "    <tr>\n",
              "      <th>0</th>\n",
              "      <td>0</td>\n",
              "      <td>2008-09-30</td>\n",
              "      <td>1</td>\n",
              "      <td>0</td>\n",
              "      <td>0</td>\n",
              "      <td>2</td>\n",
              "      <td>3.0</td>\n",
              "      <td>3.8</td>\n",
              "      <td>0.16</td>\n",
              "    </tr>\n",
              "    <tr>\n",
              "      <th>1</th>\n",
              "      <td>1</td>\n",
              "      <td>2008-11-30</td>\n",
              "      <td>0</td>\n",
              "      <td>0</td>\n",
              "      <td>1</td>\n",
              "      <td>1</td>\n",
              "      <td>2.0</td>\n",
              "      <td>5.0</td>\n",
              "      <td>0.36</td>\n",
              "    </tr>\n",
              "    <tr>\n",
              "      <th>2</th>\n",
              "      <td>2</td>\n",
              "      <td>2008-03-10</td>\n",
              "      <td>1</td>\n",
              "      <td>1</td>\n",
              "      <td>1</td>\n",
              "      <td>2</td>\n",
              "      <td>NaN</td>\n",
              "      <td>5.8</td>\n",
              "      <td>0.49</td>\n",
              "    </tr>\n",
              "    <tr>\n",
              "      <th>3</th>\n",
              "      <td>3</td>\n",
              "      <td>2008-11-03</td>\n",
              "      <td>0</td>\n",
              "      <td>0</td>\n",
              "      <td>1</td>\n",
              "      <td>1</td>\n",
              "      <td>1.0</td>\n",
              "      <td>2.6</td>\n",
              "      <td>0.20</td>\n",
              "    </tr>\n",
              "    <tr>\n",
              "      <th>4</th>\n",
              "      <td>4</td>\n",
              "      <td>2008-07-24</td>\n",
              "      <td>1</td>\n",
              "      <td>0</td>\n",
              "      <td>0</td>\n",
              "      <td>3</td>\n",
              "      <td>7.0</td>\n",
              "      <td>6.9</td>\n",
              "      <td>0.52</td>\n",
              "    </tr>\n",
              "  </tbody>\n",
              "</table>\n",
              "</div>"
            ],
            "text/plain": [
              "   emp_id        doj  gender  company_type  wfh  designation  resource_alloc  \\\n",
              "0       0 2008-09-30       1             0    0            2             3.0   \n",
              "1       1 2008-11-30       0             0    1            1             2.0   \n",
              "2       2 2008-03-10       1             1    1            2             NaN   \n",
              "3       3 2008-11-03       0             0    1            1             1.0   \n",
              "4       4 2008-07-24       1             0    0            3             7.0   \n",
              "\n",
              "   mental_fatigue_score  burn_rate  \n",
              "0                   3.8       0.16  \n",
              "1                   5.0       0.36  \n",
              "2                   5.8       0.49  \n",
              "3                   2.6       0.20  \n",
              "4                   6.9       0.52  "
            ]
          },
          "execution_count": 8,
          "metadata": {},
          "output_type": "execute_result"
        }
      ],
      "source": [
        "df.columns=['emp_id','doj','gender','company_type','wfh','designation','resource_alloc','mental_fatigue_score','burn_rate']\n",
        "df_test.columns=['emp_id','doj','gender','company_type','wfh','designation','resource_alloc','mental_fatigue_score']\n",
        "#print(df.shape)\n",
        "df.replace(to_replace='Female',value=1, inplace=True)\n",
        "df.replace(to_replace='Male',value=0, inplace=True)\n",
        "\n",
        "df_test.replace(to_replace='Female',value=1, inplace=True)\n",
        "df_test.replace(to_replace='Male',value=0, inplace=True)\n",
        "\n",
        "df.replace(to_replace='Product',value=1, inplace=True)\n",
        "df.replace(to_replace='Service',value=0, inplace=True)\n",
        "\n",
        "df_test.replace(to_replace='Product',value=1, inplace=True)\n",
        "df_test.replace(to_replace='Service',value=0, inplace=True)\n",
        "\n",
        "df.replace(to_replace='Yes',value=1, inplace=True)\n",
        "df.replace(to_replace='No',value=0, inplace=True)\n",
        "\n",
        "df_test.replace(to_replace='Yes',value=1, inplace=True)\n",
        "df_test.replace(to_replace='No',value=0, inplace=True)\n",
        "\n",
        "\n",
        "df['doj']=pd.to_datetime(df['doj']) #to_datetime() 函式無需指定datetime格式字串即可以一種智慧的方式轉換為datetime自動到字串模式\n",
        "df_test['doj']=pd.to_datetime(df['doj'])\n",
        "df.head()"
      ]
    },
    {
      "cell_type": "code",
      "execution_count": 9,
      "id": "eec3bee4",
      "metadata": {},
      "outputs": [
        {
          "name": "stdout",
          "output_type": "stream",
          "text": [
            "[1 0]\n",
            "[0 1]\n",
            "[0 1]\n",
            "[2 1 3 0 4 5]\n",
            "[ 3.  2. nan  1.  7.  4.  6.  5.  8. 10.  9.]\n",
            "[0 1]\n",
            "[0 1]\n",
            "[1 0]\n",
            "[0 3 4 1 2 5]\n",
            "[ 1.  8.  9.  3.  5.  6.  4.  2. nan  7. 10.]\n"
          ]
        }
      ],
      "source": [
        "print(df['gender'].unique())\n",
        "print(df['company_type'].unique())\n",
        "print(df['wfh'].unique())\n",
        "print(df['designation'].unique())\n",
        "print(df['resource_alloc'].unique())\n",
        "\n",
        "print(df_test['gender'].unique())\n",
        "print(df_test['company_type'].unique())\n",
        "print(df_test['wfh'].unique())\n",
        "print(df_test['designation'].unique())\n",
        "print(df_test['resource_alloc'].unique())"
      ]
    },
    {
      "cell_type": "markdown",
      "id": "RNLQse4lIpEO",
      "metadata": {
        "id": "RNLQse4lIpEO"
      },
      "source": [
        "### Check Missing Value"
      ]
    },
    {
      "cell_type": "code",
      "execution_count": 10,
      "id": "248ab8ad",
      "metadata": {},
      "outputs": [
        {
          "name": "stdout",
          "output_type": "stream",
          "text": [
            "False\n",
            "False\n",
            "False\n",
            "False\n",
            "False\n",
            "True\n",
            "True\n",
            "True\n",
            "630\n",
            "966\n",
            "484\n",
            "0\n",
            "0\n",
            "0\n"
          ]
        }
      ],
      "source": [
        "print(df['doj'].isnull().values.any())\n",
        "print(df['gender'].isnull().values.any())\n",
        "print(df['company_type'].isnull().values.any())\n",
        "print(df['wfh'].isnull().values.any())\n",
        "print(df['designation'].isnull().values.any())\n",
        "print(df['resource_alloc'].isnull().values.any())\n",
        "print(df['mental_fatigue_score'].isnull().values.any())\n",
        "print(df['burn_rate'].isnull().values.any())\n",
        "print(df['resource_alloc'].isnull().sum())\n",
        "print(df['mental_fatigue_score'].isnull().sum())\n",
        "print(df['burn_rate'].isnull().sum())\n",
        "\n",
        "df['resource_alloc'].fillna((df['resource_alloc'].mean()), inplace=True)\n",
        "df['mental_fatigue_score'].fillna((df['mental_fatigue_score'].mean()), inplace=True)\n",
        "df['burn_rate'].fillna((df['burn_rate'].mean()), inplace=True)\n",
        "df_test['resource_alloc'].fillna((df_test['resource_alloc'].mean()), inplace=True)\n",
        "df_test['mental_fatigue_score'].fillna((df_test['mental_fatigue_score'].mean()), inplace=True)\n",
        "\n",
        "print(df['resource_alloc'].isnull().sum())\n",
        "print(df['mental_fatigue_score'].isnull().sum())\n",
        "print(df['burn_rate'].isnull().sum())"
      ]
    },
    {
      "cell_type": "code",
      "execution_count": 11,
      "id": "df74a0cc",
      "metadata": {},
      "outputs": [
        {
          "data": {
            "text/plain": [
              "emp_id                           int64\n",
              "doj                     datetime64[ns]\n",
              "gender                           int64\n",
              "company_type                     int64\n",
              "wfh                              int64\n",
              "designation                      int64\n",
              "resource_alloc                 float64\n",
              "mental_fatigue_score           float64\n",
              "burn_rate                      float64\n",
              "dtype: object"
            ]
          },
          "execution_count": 11,
          "metadata": {},
          "output_type": "execute_result"
        }
      ],
      "source": [
        "df.describe()\n",
        "df.dtypes"
      ]
    },
    {
      "cell_type": "code",
      "execution_count": 12,
      "id": "cea9c498",
      "metadata": {},
      "outputs": [
        {
          "data": {
            "text/html": [
              "<div>\n",
              "<style scoped>\n",
              "    .dataframe tbody tr th:only-of-type {\n",
              "        vertical-align: middle;\n",
              "    }\n",
              "\n",
              "    .dataframe tbody tr th {\n",
              "        vertical-align: top;\n",
              "    }\n",
              "\n",
              "    .dataframe thead th {\n",
              "        text-align: right;\n",
              "    }\n",
              "</style>\n",
              "<table border=\"1\" class=\"dataframe\">\n",
              "  <thead>\n",
              "    <tr style=\"text-align: right;\">\n",
              "      <th></th>\n",
              "      <th>emp_id</th>\n",
              "      <th>doj</th>\n",
              "      <th>gender</th>\n",
              "      <th>company_type</th>\n",
              "      <th>wfh</th>\n",
              "      <th>designation</th>\n",
              "      <th>resource_alloc</th>\n",
              "      <th>mental_fatigue_score</th>\n",
              "      <th>burn_rate</th>\n",
              "      <th>today_date</th>\n",
              "      <th>no_months</th>\n",
              "    </tr>\n",
              "  </thead>\n",
              "  <tbody>\n",
              "    <tr>\n",
              "      <th>0</th>\n",
              "      <td>0</td>\n",
              "      <td>2008-09-30</td>\n",
              "      <td>1</td>\n",
              "      <td>0</td>\n",
              "      <td>0</td>\n",
              "      <td>2</td>\n",
              "      <td>3.000000</td>\n",
              "      <td>3.8</td>\n",
              "      <td>0.16</td>\n",
              "      <td>2022-10-12</td>\n",
              "      <td>168</td>\n",
              "    </tr>\n",
              "    <tr>\n",
              "      <th>1</th>\n",
              "      <td>1</td>\n",
              "      <td>2008-11-30</td>\n",
              "      <td>0</td>\n",
              "      <td>0</td>\n",
              "      <td>1</td>\n",
              "      <td>1</td>\n",
              "      <td>2.000000</td>\n",
              "      <td>5.0</td>\n",
              "      <td>0.36</td>\n",
              "      <td>2022-10-12</td>\n",
              "      <td>166</td>\n",
              "    </tr>\n",
              "    <tr>\n",
              "      <th>2</th>\n",
              "      <td>2</td>\n",
              "      <td>2008-03-10</td>\n",
              "      <td>1</td>\n",
              "      <td>1</td>\n",
              "      <td>1</td>\n",
              "      <td>2</td>\n",
              "      <td>4.497257</td>\n",
              "      <td>5.8</td>\n",
              "      <td>0.49</td>\n",
              "      <td>2022-10-12</td>\n",
              "      <td>175</td>\n",
              "    </tr>\n",
              "    <tr>\n",
              "      <th>3</th>\n",
              "      <td>3</td>\n",
              "      <td>2008-11-03</td>\n",
              "      <td>0</td>\n",
              "      <td>0</td>\n",
              "      <td>1</td>\n",
              "      <td>1</td>\n",
              "      <td>1.000000</td>\n",
              "      <td>2.6</td>\n",
              "      <td>0.20</td>\n",
              "      <td>2022-10-12</td>\n",
              "      <td>167</td>\n",
              "    </tr>\n",
              "    <tr>\n",
              "      <th>4</th>\n",
              "      <td>4</td>\n",
              "      <td>2008-07-24</td>\n",
              "      <td>1</td>\n",
              "      <td>0</td>\n",
              "      <td>0</td>\n",
              "      <td>3</td>\n",
              "      <td>7.000000</td>\n",
              "      <td>6.9</td>\n",
              "      <td>0.52</td>\n",
              "      <td>2022-10-12</td>\n",
              "      <td>170</td>\n",
              "    </tr>\n",
              "  </tbody>\n",
              "</table>\n",
              "</div>"
            ],
            "text/plain": [
              "   emp_id        doj  gender  company_type  wfh  designation  resource_alloc  \\\n",
              "0       0 2008-09-30       1             0    0            2        3.000000   \n",
              "1       1 2008-11-30       0             0    1            1        2.000000   \n",
              "2       2 2008-03-10       1             1    1            2        4.497257   \n",
              "3       3 2008-11-03       0             0    1            1        1.000000   \n",
              "4       4 2008-07-24       1             0    0            3        7.000000   \n",
              "\n",
              "   mental_fatigue_score  burn_rate today_date  no_months  \n",
              "0                   3.8       0.16 2022-10-12        168  \n",
              "1                   5.0       0.36 2022-10-12        166  \n",
              "2                   5.8       0.49 2022-10-12        175  \n",
              "3                   2.6       0.20 2022-10-12        167  \n",
              "4                   6.9       0.52 2022-10-12        170  "
            ]
          },
          "execution_count": 12,
          "metadata": {},
          "output_type": "execute_result"
        }
      ],
      "source": [
        "# 今日日期與表中日期\n",
        "\n",
        "df['today_date']=date.today()\n",
        "df['today_date']=pd.to_datetime(df['today_date'])\n",
        "\n",
        "df['no_months']=((df.today_date-df.doj)/np.timedelta64(1, 'M'))#np.timedelta64(1, 'M')=30天左右\n",
        "df['no_months']=df['no_months'].astype(int)\n",
        "\n",
        "\n",
        "df_test['today_date']=date.today()\n",
        "df_test['today_date']=pd.to_datetime(df_test['today_date'])\n",
        "\n",
        "df_test['no_months']=((df_test.today_date-df_test.doj)/np.timedelta64(1, 'M'))\n",
        "df_test['no_months']=df_test['no_months'].astype(int)\n",
        "\n",
        "df.head()"
      ]
    },
    {
      "cell_type": "markdown",
      "id": "WyJKb2JdIpEQ",
      "metadata": {
        "id": "WyJKb2JdIpEQ"
      },
      "source": [
        "### Training (model construction)"
      ]
    },
    {
      "cell_type": "code",
      "execution_count": 13,
      "id": "d7b842c3",
      "metadata": {},
      "outputs": [
        {
          "name": "stdout",
          "output_type": "stream",
          "text": [
            "0.005743835706602253\n",
            "0.8776302540285252\n",
            "0.8100072552515907\n",
            "0.005541137996968886\n",
            "0.004687149908222316\n",
            "0.7391089289235807\n"
          ]
        }
      ],
      "source": [
        "#corr相關係數\n",
        "print(df['no_months'].corr(df['burn_rate']))\n",
        "print(df['mental_fatigue_score'].corr(df['burn_rate']))\n",
        "print(df['resource_alloc'].corr(df['burn_rate']))\n",
        "print(df['no_months'].corr(df['mental_fatigue_score']))\n",
        "print(df['no_months'].corr(df['resource_alloc']))\n",
        "print(df['resource_alloc'].corr(df['mental_fatigue_score']))"
      ]
    },
    {
      "cell_type": "code",
      "execution_count": 14,
      "id": "17dfe882",
      "metadata": {},
      "outputs": [
        {
          "data": {
            "text/html": [
              "<div>\n",
              "<style scoped>\n",
              "    .dataframe tbody tr th:only-of-type {\n",
              "        vertical-align: middle;\n",
              "    }\n",
              "\n",
              "    .dataframe tbody tr th {\n",
              "        vertical-align: top;\n",
              "    }\n",
              "\n",
              "    .dataframe thead th {\n",
              "        text-align: right;\n",
              "    }\n",
              "</style>\n",
              "<table border=\"1\" class=\"dataframe\">\n",
              "  <thead>\n",
              "    <tr style=\"text-align: right;\">\n",
              "      <th></th>\n",
              "      <th>no_months</th>\n",
              "      <th>gender</th>\n",
              "      <th>company_type</th>\n",
              "      <th>wfh</th>\n",
              "      <th>designation</th>\n",
              "      <th>resource_alloc</th>\n",
              "      <th>mental_fatigue_score</th>\n",
              "    </tr>\n",
              "  </thead>\n",
              "  <tbody>\n",
              "    <tr>\n",
              "      <th>0</th>\n",
              "      <td>168</td>\n",
              "      <td>0</td>\n",
              "      <td>0</td>\n",
              "      <td>1</td>\n",
              "      <td>0</td>\n",
              "      <td>1.0</td>\n",
              "      <td>0.00000</td>\n",
              "    </tr>\n",
              "    <tr>\n",
              "      <th>1</th>\n",
              "      <td>166</td>\n",
              "      <td>0</td>\n",
              "      <td>1</td>\n",
              "      <td>0</td>\n",
              "      <td>3</td>\n",
              "      <td>8.0</td>\n",
              "      <td>7.90000</td>\n",
              "    </tr>\n",
              "    <tr>\n",
              "      <th>2</th>\n",
              "      <td>175</td>\n",
              "      <td>0</td>\n",
              "      <td>0</td>\n",
              "      <td>0</td>\n",
              "      <td>4</td>\n",
              "      <td>9.0</td>\n",
              "      <td>8.10000</td>\n",
              "    </tr>\n",
              "    <tr>\n",
              "      <th>3</th>\n",
              "      <td>167</td>\n",
              "      <td>0</td>\n",
              "      <td>1</td>\n",
              "      <td>0</td>\n",
              "      <td>1</td>\n",
              "      <td>3.0</td>\n",
              "      <td>5.70000</td>\n",
              "    </tr>\n",
              "    <tr>\n",
              "      <th>4</th>\n",
              "      <td>170</td>\n",
              "      <td>1</td>\n",
              "      <td>0</td>\n",
              "      <td>0</td>\n",
              "      <td>3</td>\n",
              "      <td>5.0</td>\n",
              "      <td>5.72068</td>\n",
              "    </tr>\n",
              "  </tbody>\n",
              "</table>\n",
              "</div>"
            ],
            "text/plain": [
              "   no_months  gender  company_type  wfh  designation  resource_alloc  \\\n",
              "0        168       0             0    1            0             1.0   \n",
              "1        166       0             1    0            3             8.0   \n",
              "2        175       0             0    0            4             9.0   \n",
              "3        167       0             1    0            1             3.0   \n",
              "4        170       1             0    0            3             5.0   \n",
              "\n",
              "   mental_fatigue_score  \n",
              "0               0.00000  \n",
              "1               7.90000  \n",
              "2               8.10000  \n",
              "3               5.70000  \n",
              "4               5.72068  "
            ]
          },
          "execution_count": 14,
          "metadata": {},
          "output_type": "execute_result"
        }
      ],
      "source": [
        "X=df[['no_months','gender','company_type','wfh','designation','resource_alloc','mental_fatigue_score']]\n",
        "y=df[['burn_rate']]\n",
        "t=df_test[['no_months','gender','company_type','wfh','designation','resource_alloc','mental_fatigue_score']]\n",
        "t.head()"
      ]
    },
    {
      "cell_type": "code",
      "execution_count": 20,
      "id": "153b67ee",
      "metadata": {},
      "outputs": [],
      "source": [
        "from sklearn.model_selection import train_test_split\n",
        "X_train,X_test,Y_train,Y_test = train_test_split(np.array(X),np.array(y),test_size=0.2,random_state=42)"
      ]
    },
    {
      "cell_type": "code",
      "execution_count": 24,
      "id": "aa70bab9",
      "metadata": {},
      "outputs": [
        {
          "data": {
            "text/plain": [
              "0.8438179967885044"
            ]
          },
          "execution_count": 24,
          "metadata": {},
          "output_type": "execute_result"
        }
      ],
      "source": [
        "from xgboost import XGBRegressor #xgb regressor module\n",
        "from sklearn.metrics import r2_score\n",
        "xgb = XGBRegressor(n_estimators = 3000,learning_rate=0.01)\n",
        "xgb.fit(X_train,Y_train)\n",
        "pred_xgb = xgb.predict(X_test)\n",
        "s6 = r2_score(Y_test,pred_xgb)\n",
        "s6"
      ]
    },
    {
      "cell_type": "code",
      "execution_count": 28,
      "id": "ef8aacb7",
      "metadata": {},
      "outputs": [
        {
          "name": "stderr",
          "output_type": "stream",
          "text": [
            "/Users/shou/Library/Python/3.8/lib/python/site-packages/sklearn/utils/validation.py:1111: DataConversionWarning: A column-vector y was passed when a 1d array was expected. Please change the shape of y to (n_samples, ), for example using ravel().\n",
            "  y = column_or_1d(y, warn=True)\n",
            "/Users/shou/Library/Python/3.8/lib/python/site-packages/lightgbm/sklearn.py:726: UserWarning: 'early_stopping_rounds' argument is deprecated and will be removed in a future release of LightGBM. Pass 'early_stopping()' callback via 'callbacks' argument instead.\n",
            "  _log_warning(\"'early_stopping_rounds' argument is deprecated and will be removed in a future release of LightGBM. \"\n",
            "/Users/shou/Library/Python/3.8/lib/python/site-packages/lightgbm/basic.py:179: UserWarning: Converting column-vector to 1d array\n",
            "  _log_warning('Converting column-vector to 1d array')\n"
          ]
        },
        {
          "name": "stdout",
          "output_type": "stream",
          "text": [
            "[1]\tvalid_0's l2: 0.0324898\n",
            "[2]\tvalid_0's l2: 0.0273802\n",
            "[3]\tvalid_0's l2: 0.0232821\n",
            "[4]\tvalid_0's l2: 0.0199385\n",
            "[5]\tvalid_0's l2: 0.017229\n",
            "[6]\tvalid_0's l2: 0.0150377\n",
            "[7]\tvalid_0's l2: 0.0132182\n",
            "[8]\tvalid_0's l2: 0.0117617\n",
            "[9]\tvalid_0's l2: 0.0105761\n",
            "[10]\tvalid_0's l2: 0.00961842\n",
            "[11]\tvalid_0's l2: 0.00883588\n",
            "[12]\tvalid_0's l2: 0.00820282\n",
            "[13]\tvalid_0's l2: 0.00768681\n",
            "[14]\tvalid_0's l2: 0.00727016\n",
            "[15]\tvalid_0's l2: 0.00693853\n",
            "[16]\tvalid_0's l2: 0.00667503\n",
            "[17]\tvalid_0's l2: 0.00646156\n",
            "[18]\tvalid_0's l2: 0.00628099\n",
            "[19]\tvalid_0's l2: 0.00613764\n",
            "[20]\tvalid_0's l2: 0.00601875\n",
            "[21]\tvalid_0's l2: 0.0059224\n",
            "[22]\tvalid_0's l2: 0.00584583\n",
            "[23]\tvalid_0's l2: 0.00577862\n",
            "[24]\tvalid_0's l2: 0.00572491\n",
            "[25]\tvalid_0's l2: 0.00568783\n",
            "[26]\tvalid_0's l2: 0.00565081\n",
            "[27]\tvalid_0's l2: 0.00562166\n",
            "[28]\tvalid_0's l2: 0.00560498\n",
            "[29]\tvalid_0's l2: 0.00558503\n",
            "[30]\tvalid_0's l2: 0.00557614\n",
            "[31]\tvalid_0's l2: 0.00556767\n",
            "[32]\tvalid_0's l2: 0.00555709\n",
            "[33]\tvalid_0's l2: 0.00554935\n",
            "[34]\tvalid_0's l2: 0.00554683\n",
            "[35]\tvalid_0's l2: 0.00554694\n",
            "[36]\tvalid_0's l2: 0.00554266\n",
            "[37]\tvalid_0's l2: 0.00554027\n",
            "[38]\tvalid_0's l2: 0.005536\n",
            "[39]\tvalid_0's l2: 0.00552948\n",
            "[40]\tvalid_0's l2: 0.0055328\n",
            "[41]\tvalid_0's l2: 0.00553097\n",
            "[42]\tvalid_0's l2: 0.00552841\n",
            "[43]\tvalid_0's l2: 0.00552915\n",
            "[44]\tvalid_0's l2: 0.00553205\n",
            "[45]\tvalid_0's l2: 0.00553908\n",
            "[46]\tvalid_0's l2: 0.00554189\n",
            "[47]\tvalid_0's l2: 0.00554536\n",
            "[48]\tvalid_0's l2: 0.00554738\n",
            "[49]\tvalid_0's l2: 0.00555073\n",
            "[50]\tvalid_0's l2: 0.0055521\n",
            "[51]\tvalid_0's l2: 0.00555194\n",
            "[52]\tvalid_0's l2: 0.00555547\n",
            "[53]\tvalid_0's l2: 0.00555905\n",
            "[54]\tvalid_0's l2: 0.00556298\n",
            "[55]\tvalid_0's l2: 0.00556923\n",
            "[56]\tvalid_0's l2: 0.00557131\n",
            "[57]\tvalid_0's l2: 0.00556672\n",
            "[58]\tvalid_0's l2: 0.00557104\n",
            "[59]\tvalid_0's l2: 0.00557763\n",
            "[60]\tvalid_0's l2: 0.00558049\n",
            "[61]\tvalid_0's l2: 0.00558136\n",
            "[62]\tvalid_0's l2: 0.00558348\n",
            "[63]\tvalid_0's l2: 0.00558073\n",
            "[64]\tvalid_0's l2: 0.00558203\n",
            "[65]\tvalid_0's l2: 0.00558487\n",
            "[66]\tvalid_0's l2: 0.00558315\n",
            "[67]\tvalid_0's l2: 0.00558539\n",
            "[68]\tvalid_0's l2: 0.00558698\n",
            "[69]\tvalid_0's l2: 0.00559486\n",
            "[70]\tvalid_0's l2: 0.00559691\n",
            "[71]\tvalid_0's l2: 0.00559948\n",
            "[72]\tvalid_0's l2: 0.00559791\n",
            "[73]\tvalid_0's l2: 0.00560361\n",
            "[74]\tvalid_0's l2: 0.00560783\n",
            "[75]\tvalid_0's l2: 0.0056141\n",
            "[76]\tvalid_0's l2: 0.00561451\n",
            "[77]\tvalid_0's l2: 0.00561958\n",
            "[78]\tvalid_0's l2: 0.00562498\n",
            "[79]\tvalid_0's l2: 0.00562582\n",
            "[80]\tvalid_0's l2: 0.00562541\n",
            "[81]\tvalid_0's l2: 0.00562946\n",
            "[82]\tvalid_0's l2: 0.00563416\n",
            "[83]\tvalid_0's l2: 0.00563292\n",
            "[84]\tvalid_0's l2: 0.00562556\n",
            "[85]\tvalid_0's l2: 0.00563312\n",
            "[86]\tvalid_0's l2: 0.00563255\n",
            "[87]\tvalid_0's l2: 0.00563448\n",
            "[88]\tvalid_0's l2: 0.00564029\n",
            "[89]\tvalid_0's l2: 0.00564619\n",
            "[90]\tvalid_0's l2: 0.00564707\n",
            "[91]\tvalid_0's l2: 0.00564674\n",
            "[92]\tvalid_0's l2: 0.00565261\n",
            "[93]\tvalid_0's l2: 0.00565544\n",
            "[94]\tvalid_0's l2: 0.00566064\n",
            "[95]\tvalid_0's l2: 0.00566294\n",
            "[96]\tvalid_0's l2: 0.00566644\n",
            "[97]\tvalid_0's l2: 0.00566545\n",
            "[98]\tvalid_0's l2: 0.00566604\n",
            "[99]\tvalid_0's l2: 0.0056677\n",
            "[100]\tvalid_0's l2: 0.00566956\n"
          ]
        },
        {
          "data": {
            "text/plain": [
              "0.857339569163627"
            ]
          },
          "execution_count": 28,
          "metadata": {},
          "output_type": "execute_result"
        }
      ],
      "source": [
        "from lightgbm import LGBMRegressor\n",
        "lgb = LGBMRegressor()\n",
        "lgb.fit(X_train,Y_train,eval_set = (X_test,Y_test),early_stopping_rounds=2000)\n",
        "pred_lgb = lgb.predict(X_test)\n",
        "s5 = r2_score(Y_test,pred_lgb)\n",
        "s5"
      ]
    },
    {
      "cell_type": "code",
      "execution_count": 15,
      "id": "f2a4a66d",
      "metadata": {},
      "outputs": [],
      "source": [
        "pf = PolynomialFeatures(2)"
      ]
    },
    {
      "cell_type": "code",
      "execution_count": 16,
      "id": "34cf21dc",
      "metadata": {},
      "outputs": [
        {
          "data": {
            "text/plain": [
              "0.832444206091814"
            ]
          },
          "execution_count": 16,
          "metadata": {},
          "output_type": "execute_result"
        }
      ],
      "source": [
        "X = pf.fit_transform(X.drop('gender', axis=1))\n",
        "t = pf.transform(t.drop('gender', axis=1))\n",
        "lr = LinearRegression() ## Model Build\n",
        "lr.fit(X,y)\n",
        "lr.score(X,y)"
      ]
    },
    {
      "cell_type": "code",
      "execution_count": null,
      "id": "e402187a",
      "metadata": {},
      "outputs": [],
      "source": []
    },
    {
      "cell_type": "markdown",
      "id": "myOBllB_IpEQ",
      "metadata": {
        "id": "myOBllB_IpEQ"
      },
      "source": [
        "### Prediction\n",
        "1. read data\n",
        "2. model prediction\n",
        "3. to_csv"
      ]
    },
    {
      "cell_type": "code",
      "execution_count": 31,
      "id": "ea8c84a0",
      "metadata": {},
      "outputs": [],
      "source": [
        "test_lgb = lgb.predict(t) #lgb 預測值"
      ]
    },
    {
      "cell_type": "code",
      "execution_count": 26,
      "id": "41332e79",
      "metadata": {},
      "outputs": [],
      "source": [
        "test_xgb = xgb.predict(t) #xgb 預測值"
      ]
    },
    {
      "cell_type": "code",
      "execution_count": 17,
      "id": "8565ed95",
      "metadata": {},
      "outputs": [],
      "source": [
        "predictions = lr.predict(t) #線性回歸"
      ]
    },
    {
      "cell_type": "markdown",
      "id": "NrJx8svNIpER",
      "metadata": {
        "id": "NrJx8svNIpER"
      },
      "source": [
        "### Output .csv for submission"
      ]
    },
    {
      "cell_type": "code",
      "execution_count": 32,
      "id": "a49b754e",
      "metadata": {},
      "outputs": [],
      "source": [
        "df_ans = pd.DataFrame(test_lgb.astype(float), columns=['Burn Rate'])\n",
        "df_ans.to_csv('mySubmission.csv', index_label='Employee ID')"
      ]
    },
    {
      "cell_type": "markdown",
      "id": "GQtkLdwIIpEQ",
      "metadata": {
        "id": "GQtkLdwIIpEQ"
      },
      "source": [
        "### Cross validation\n",
        "- usually we will do cross validation to evaluate the generalization of model\n",
        "- or you can just use ```sklearn.model_selection.train_test_split``` to evaluate your model"
      ]
    },
    {
      "cell_type": "code",
      "execution_count": 33,
      "id": "6FrlV4m5IpEQ",
      "metadata": {
        "colab": {
          "base_uri": "https://localhost:8080/"
        },
        "id": "6FrlV4m5IpEQ",
        "outputId": "d7141844-631d-4060-9f8c-f4de6c22c348"
      },
      "outputs": [
        {
          "name": "stderr",
          "output_type": "stream",
          "text": [
            "/Users/shou/Library/Python/3.8/lib/python/site-packages/sklearn/utils/validation.py:1111: DataConversionWarning: A column-vector y was passed when a 1d array was expected. Please change the shape of y to (n_samples, ), for example using ravel().\n",
            "  y = column_or_1d(y, warn=True)\n",
            "/Users/shou/Library/Python/3.8/lib/python/site-packages/sklearn/utils/validation.py:1111: DataConversionWarning: A column-vector y was passed when a 1d array was expected. Please change the shape of y to (n_samples, ), for example using ravel().\n",
            "  y = column_or_1d(y, warn=True)\n",
            "/Users/shou/Library/Python/3.8/lib/python/site-packages/sklearn/utils/validation.py:1111: DataConversionWarning: A column-vector y was passed when a 1d array was expected. Please change the shape of y to (n_samples, ), for example using ravel().\n",
            "  y = column_or_1d(y, warn=True)\n",
            "/Users/shou/Library/Python/3.8/lib/python/site-packages/sklearn/utils/validation.py:1111: DataConversionWarning: A column-vector y was passed when a 1d array was expected. Please change the shape of y to (n_samples, ), for example using ravel().\n",
            "  y = column_or_1d(y, warn=True)\n",
            "/Users/shou/Library/Python/3.8/lib/python/site-packages/sklearn/utils/validation.py:1111: DataConversionWarning: A column-vector y was passed when a 1d array was expected. Please change the shape of y to (n_samples, ), for example using ravel().\n",
            "  y = column_or_1d(y, warn=True)\n"
          ]
        },
        {
          "name": "stdout",
          "output_type": "stream",
          "text": [
            "R2: 0.86 (std: 0.02)\n",
            "[0.86922737 0.86102441 0.86263637 0.86508953 0.8212214 ]\n"
          ]
        },
        {
          "name": "stderr",
          "output_type": "stream",
          "text": [
            "/Users/shou/Library/Python/3.8/lib/python/site-packages/sklearn/utils/validation.py:1111: DataConversionWarning: A column-vector y was passed when a 1d array was expected. Please change the shape of y to (n_samples, ), for example using ravel().\n",
            "  y = column_or_1d(y, warn=True)\n",
            "/Users/shou/Library/Python/3.8/lib/python/site-packages/sklearn/utils/validation.py:1111: DataConversionWarning: A column-vector y was passed when a 1d array was expected. Please change the shape of y to (n_samples, ), for example using ravel().\n",
            "  y = column_or_1d(y, warn=True)\n",
            "/Users/shou/Library/Python/3.8/lib/python/site-packages/sklearn/utils/validation.py:1111: DataConversionWarning: A column-vector y was passed when a 1d array was expected. Please change the shape of y to (n_samples, ), for example using ravel().\n",
            "  y = column_or_1d(y, warn=True)\n",
            "/Users/shou/Library/Python/3.8/lib/python/site-packages/sklearn/utils/validation.py:1111: DataConversionWarning: A column-vector y was passed when a 1d array was expected. Please change the shape of y to (n_samples, ), for example using ravel().\n",
            "  y = column_or_1d(y, warn=True)\n",
            "/Users/shou/Library/Python/3.8/lib/python/site-packages/sklearn/utils/validation.py:1111: DataConversionWarning: A column-vector y was passed when a 1d array was expected. Please change the shape of y to (n_samples, ), for example using ravel().\n",
            "  y = column_or_1d(y, warn=True)\n"
          ]
        },
        {
          "name": "stdout",
          "output_type": "stream",
          "text": [
            "====================================\n",
            "R2: 0.8558398161205135 (std: 0.017528786028827768)\n",
            "MSE: 0.005397391654340099 (std: 0.00045647350358160225)\n",
            "MAPE: 2643285476291.537 (std: 703348173105.616)\n"
          ]
        }
      ],
      "source": [
        "from sklearn.model_selection import cross_val_score, cross_validate\n",
        "# directly use cross_val_score\n",
        "scores = cross_val_score(lgb, X, y, cv=5)\n",
        "print(\"R2: %0.2f (std: %0.2f)\" % (scores.mean(), scores.std()))\n",
        "print(scores)\n",
        "# need other scoring\n",
        "scores = cross_validate(lgb, X, y, cv=5,\n",
        "                       scoring=('r2', 'neg_mean_squared_error', 'neg_mean_absolute_percentage_error'))\n",
        "print(\"====================================\")\n",
        "print(\"R2: {} (std: {})\".format(scores['test_r2'].mean(), scores['test_r2'].std()))\n",
        "print(\"MSE: {} (std: {})\".format(-scores['test_neg_mean_squared_error'].mean(), scores['test_neg_mean_squared_error'].std()))\n",
        "print(\"MAPE: {} (std: {})\".format(-scores['test_neg_mean_absolute_percentage_error'].mean(), scores['test_neg_mean_absolute_percentage_error'].std()))"
      ]
    },
    {
      "cell_type": "markdown",
      "id": "kB2tPfmaIpER",
      "metadata": {
        "id": "kB2tPfmaIpER"
      },
      "source": [
        "### Same preprocessing step as training procedure\n",
        "- can write it like a function or pipeline"
      ]
    },
    {
      "cell_type": "markdown",
      "id": "zzbi3vvOIpER",
      "metadata": {
        "id": "zzbi3vvOIpER"
      },
      "source": [
        "### Some Tips\n",
        "1. try different scaling approach (numerical variable)\n",
        "2. encoding method\n",
        "3. different model\n",
        "4. feature engineering (some different transformation)\n",
        "5. do some data exploration to see other pattern\n",
        "6. hyperparameter\n",
        "\n",
        "### Other Complementary\n",
        "- pipeline: https://scikit-learn.org/stable/modules/compose.html#pipeline\n",
        "- also can try some basic deep learning model (ANN)"
      ]
    },
    {
      "cell_type": "code",
      "execution_count": null,
      "id": "xINoX0FFIpER",
      "metadata": {
        "id": "xINoX0FFIpER"
      },
      "outputs": [],
      "source": []
    },
    {
      "cell_type": "code",
      "execution_count": null,
      "id": "mBDdLRTWIpER",
      "metadata": {
        "id": "mBDdLRTWIpER"
      },
      "outputs": [],
      "source": []
    }
  ],
  "metadata": {
    "colab": {
      "collapsed_sections": [],
      "provenance": []
    },
    "kernelspec": {
      "display_name": "Python 3.8.9 64-bit",
      "language": "python",
      "name": "python3"
    },
    "language_info": {
      "codemirror_mode": {
        "name": "ipython",
        "version": 3
      },
      "file_extension": ".py",
      "mimetype": "text/x-python",
      "name": "python",
      "nbconvert_exporter": "python",
      "pygments_lexer": "ipython3",
      "version": "3.8.9"
    },
    "vscode": {
      "interpreter": {
        "hash": "31f2aee4e71d21fbe5cf8b01ff0e069b9275f58929596ceb00d14d90e3e16cd6"
      }
    }
  },
  "nbformat": 4,
  "nbformat_minor": 5
}
